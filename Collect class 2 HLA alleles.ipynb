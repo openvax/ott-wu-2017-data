{
 "cells": [
  {
   "cell_type": "code",
   "execution_count": 1,
   "metadata": {},
   "outputs": [],
   "source": [
    "df = pd.read_csv(\"Supplemental information 5.csv\")"
   ]
  },
  {
   "cell_type": "code",
   "execution_count": 2,
   "metadata": {},
   "outputs": [
    {
     "data": {
      "text/html": [
       "<div>\n",
       "<style scoped>\n",
       "    .dataframe tbody tr th:only-of-type {\n",
       "        vertical-align: middle;\n",
       "    }\n",
       "\n",
       "    .dataframe tbody tr th {\n",
       "        vertical-align: top;\n",
       "    }\n",
       "\n",
       "    .dataframe thead th {\n",
       "        text-align: right;\n",
       "    }\n",
       "</style>\n",
       "<table border=\"1\" class=\"dataframe\">\n",
       "  <thead>\n",
       "    <tr style=\"text-align: right;\">\n",
       "      <th></th>\n",
       "      <th>Patient ID</th>\n",
       "      <th>Gene</th>\n",
       "      <th>Protein change</th>\n",
       "      <th>Immunizing peptide ID</th>\n",
       "      <th>Immunizing peptide</th>\n",
       "      <th>Binding peptide</th>\n",
       "      <th>HLA allele</th>\n",
       "      <th>Prediction method</th>\n",
       "      <th>Percentile rank</th>\n",
       "    </tr>\n",
       "  </thead>\n",
       "  <tbody>\n",
       "    <tr>\n",
       "      <th>0</th>\n",
       "      <td>1</td>\n",
       "      <td>ACPP</td>\n",
       "      <td>p.E34K</td>\n",
       "      <td>1-IMP04</td>\n",
       "      <td>DRSVLAKKLKFVTLVFRHGDRSPID</td>\n",
       "      <td>LAKKLKFVTLVFRHG</td>\n",
       "      <td>HLA-DPA1*01:03/DPB1*04:01</td>\n",
       "      <td>NetMHCIIpan</td>\n",
       "      <td>1.64</td>\n",
       "    </tr>\n",
       "    <tr>\n",
       "      <th>1</th>\n",
       "      <td>1</td>\n",
       "      <td>ACPP</td>\n",
       "      <td>p.E34K</td>\n",
       "      <td>1-IMP04</td>\n",
       "      <td>DRSVLAKKLKFVTLVFRHGDRSPID</td>\n",
       "      <td>AKKLKFVTLVFRHGD</td>\n",
       "      <td>HLA-DPA1*01:03/DPB1*04:01</td>\n",
       "      <td>NetMHCIIpan</td>\n",
       "      <td>1.84</td>\n",
       "    </tr>\n",
       "    <tr>\n",
       "      <th>2</th>\n",
       "      <td>1</td>\n",
       "      <td>ACPP</td>\n",
       "      <td>p.E34K</td>\n",
       "      <td>1-IMP04</td>\n",
       "      <td>DRSVLAKKLKFVTLVFRHGDRSPID</td>\n",
       "      <td>VLAKKLKFVTLVFRH</td>\n",
       "      <td>HLA-DPA1*01:03/DPB1*04:01</td>\n",
       "      <td>NetMHCIIpan</td>\n",
       "      <td>2.01</td>\n",
       "    </tr>\n",
       "    <tr>\n",
       "      <th>3</th>\n",
       "      <td>1</td>\n",
       "      <td>ACPP</td>\n",
       "      <td>p.E34K</td>\n",
       "      <td>1-IMP04</td>\n",
       "      <td>DRSVLAKKLKFVTLVFRHGDRSPID</td>\n",
       "      <td>KKLKFVTLVFRHGDR</td>\n",
       "      <td>HLA-DPA1*01:03/DPB1*04:01</td>\n",
       "      <td>NetMHCIIpan</td>\n",
       "      <td>2.01</td>\n",
       "    </tr>\n",
       "    <tr>\n",
       "      <th>4</th>\n",
       "      <td>1</td>\n",
       "      <td>ACPP</td>\n",
       "      <td>p.E34K</td>\n",
       "      <td>1-IMP04</td>\n",
       "      <td>DRSVLAKKLKFVTLVFRHGDRSPID</td>\n",
       "      <td>KLKFVTLVFRHGDRS</td>\n",
       "      <td>HLA-DPA1*01:03/DPB1*04:01</td>\n",
       "      <td>NetMHCIIpan</td>\n",
       "      <td>3.27</td>\n",
       "    </tr>\n",
       "  </tbody>\n",
       "</table>\n",
       "</div>"
      ],
      "text/plain": [
       "   Patient ID  Gene Protein change Immunizing peptide ID  \\\n",
       "0           1  ACPP         p.E34K               1-IMP04   \n",
       "1           1  ACPP         p.E34K               1-IMP04   \n",
       "2           1  ACPP         p.E34K               1-IMP04   \n",
       "3           1  ACPP         p.E34K               1-IMP04   \n",
       "4           1  ACPP         p.E34K               1-IMP04   \n",
       "\n",
       "          Immunizing peptide  Binding peptide                 HLA allele  \\\n",
       "0  DRSVLAKKLKFVTLVFRHGDRSPID  LAKKLKFVTLVFRHG  HLA-DPA1*01:03/DPB1*04:01   \n",
       "1  DRSVLAKKLKFVTLVFRHGDRSPID  AKKLKFVTLVFRHGD  HLA-DPA1*01:03/DPB1*04:01   \n",
       "2  DRSVLAKKLKFVTLVFRHGDRSPID  VLAKKLKFVTLVFRH  HLA-DPA1*01:03/DPB1*04:01   \n",
       "3  DRSVLAKKLKFVTLVFRHGDRSPID  KKLKFVTLVFRHGDR  HLA-DPA1*01:03/DPB1*04:01   \n",
       "4  DRSVLAKKLKFVTLVFRHGDRSPID  KLKFVTLVFRHGDRS  HLA-DPA1*01:03/DPB1*04:01   \n",
       "\n",
       "  Prediction method  Percentile rank  \n",
       "0       NetMHCIIpan             1.64  \n",
       "1       NetMHCIIpan             1.84  \n",
       "2       NetMHCIIpan             2.01  \n",
       "3       NetMHCIIpan             2.01  \n",
       "4       NetMHCIIpan             3.27  "
      ]
     },
     "execution_count": 2,
     "metadata": {},
     "output_type": "execute_result"
    }
   ],
   "source": [
    "df.head()"
   ]
  },
  {
   "cell_type": "code",
   "execution_count": 3,
   "metadata": {},
   "outputs": [],
   "source": [
    "df_subset = df[[\"Patient ID\", \"HLA allele\"]]"
   ]
  },
  {
   "cell_type": "code",
   "execution_count": 4,
   "metadata": {},
   "outputs": [
    {
     "data": {
      "text/plain": [
       "551"
      ]
     },
     "execution_count": 4,
     "metadata": {},
     "output_type": "execute_result"
    }
   ],
   "source": [
    "len(df_subset)"
   ]
  },
  {
   "cell_type": "code",
   "execution_count": 5,
   "metadata": {},
   "outputs": [],
   "source": [
    "rows_with_alleles = df_subset.dropna()"
   ]
  },
  {
   "cell_type": "code",
   "execution_count": 6,
   "metadata": {},
   "outputs": [
    {
     "data": {
      "text/plain": [
       "551"
      ]
     },
     "execution_count": 6,
     "metadata": {},
     "output_type": "execute_result"
    }
   ],
   "source": [
    "len(rows_with_alleles)"
   ]
  },
  {
   "cell_type": "code",
   "execution_count": 7,
   "metadata": {},
   "outputs": [],
   "source": [
    "from collections import defaultdict\n",
    "patient_to_alleles = defaultdict(set)"
   ]
  },
  {
   "cell_type": "code",
   "execution_count": 8,
   "metadata": {},
   "outputs": [],
   "source": [
    "for (patient_id, allele) in zip(rows_with_alleles[\"Patient ID\"], rows_with_alleles[\"HLA allele\"]):\n",
    "    patient_to_alleles[patient_id].add(allele)"
   ]
  },
  {
   "cell_type": "code",
   "execution_count": 9,
   "metadata": {},
   "outputs": [
    {
     "data": {
      "text/plain": [
       "defaultdict(set,\n",
       "            {1: {'HLA-DPA1*01:03/DPB1*04:01',\n",
       "              'HLA-DQA1*03:01/DQB1*03:02',\n",
       "              'HLA-DRB1*04:01',\n",
       "              'HLA-DRB1*04:04'},\n",
       "             2: {'HLA-DPA1*01:03/DPB1*04:01',\n",
       "              'HLA-DRB1*07:01',\n",
       "              'HLA-DRB1*11:04'},\n",
       "             3: {'HLA-DPA1*01:03/DPB1*04:01',\n",
       "              'HLA-DQA1*01:01/DQB1*05:01',\n",
       "              'HLA-DRB1*01:01',\n",
       "              'HLA-DRB1*07:01'},\n",
       "             4: {'HLA-DPA1*01:03/DPB1*02:01',\n",
       "              'HLA-DPA1*01:03/DPB1*04:02',\n",
       "              'HLA-DQA1*01:01/DQB1*05:01',\n",
       "              'HLA-DRB1*01:01'},\n",
       "             5: {'HLA-DQA1*01:01/DQB1*05:01',\n",
       "              'HLA-DRB1*01:01',\n",
       "              'HLA-DRB1*11:01'},\n",
       "             6: {'HLA-DQA1*05:01/DQB1*02:01', 'HLA-DRB1*03:01'}})"
      ]
     },
     "execution_count": 9,
     "metadata": {},
     "output_type": "execute_result"
    }
   ],
   "source": [
    "patient_to_alleles"
   ]
  },
  {
   "cell_type": "code",
   "execution_count": 11,
   "metadata": {},
   "outputs": [],
   "source": [
    "with open(\"patient-class2-alleles.csv\", \"w\") as f:\n",
    "    f.write(\"patient,allele\\n\")\n",
    "    for patient_id in sorted(patient_to_alleles):\n",
    "        for allele in patient_to_alleles[patient_id]:\n",
    "            f.write(\"%s,%s\\n\" % (patient_id, allele))"
   ]
  },
  {
   "cell_type": "code",
   "execution_count": 12,
   "metadata": {},
   "outputs": [
    {
     "data": {
      "text/html": [
       "<div>\n",
       "<style scoped>\n",
       "    .dataframe tbody tr th:only-of-type {\n",
       "        vertical-align: middle;\n",
       "    }\n",
       "\n",
       "    .dataframe tbody tr th {\n",
       "        vertical-align: top;\n",
       "    }\n",
       "\n",
       "    .dataframe thead th {\n",
       "        text-align: right;\n",
       "    }\n",
       "</style>\n",
       "<table border=\"1\" class=\"dataframe\">\n",
       "  <thead>\n",
       "    <tr style=\"text-align: right;\">\n",
       "      <th></th>\n",
       "      <th>patient</th>\n",
       "      <th>allele</th>\n",
       "    </tr>\n",
       "  </thead>\n",
       "  <tbody>\n",
       "    <tr>\n",
       "      <th>0</th>\n",
       "      <td>1</td>\n",
       "      <td>HLA-DQA1*03:01/DQB1*03:02</td>\n",
       "    </tr>\n",
       "    <tr>\n",
       "      <th>1</th>\n",
       "      <td>1</td>\n",
       "      <td>HLA-DRB1*04:01</td>\n",
       "    </tr>\n",
       "    <tr>\n",
       "      <th>2</th>\n",
       "      <td>1</td>\n",
       "      <td>HLA-DPA1*01:03/DPB1*04:01</td>\n",
       "    </tr>\n",
       "    <tr>\n",
       "      <th>3</th>\n",
       "      <td>1</td>\n",
       "      <td>HLA-DRB1*04:04</td>\n",
       "    </tr>\n",
       "    <tr>\n",
       "      <th>4</th>\n",
       "      <td>2</td>\n",
       "      <td>HLA-DRB1*11:04</td>\n",
       "    </tr>\n",
       "    <tr>\n",
       "      <th>5</th>\n",
       "      <td>2</td>\n",
       "      <td>HLA-DPA1*01:03/DPB1*04:01</td>\n",
       "    </tr>\n",
       "    <tr>\n",
       "      <th>6</th>\n",
       "      <td>2</td>\n",
       "      <td>HLA-DRB1*07:01</td>\n",
       "    </tr>\n",
       "    <tr>\n",
       "      <th>7</th>\n",
       "      <td>3</td>\n",
       "      <td>HLA-DQA1*01:01/DQB1*05:01</td>\n",
       "    </tr>\n",
       "    <tr>\n",
       "      <th>8</th>\n",
       "      <td>3</td>\n",
       "      <td>HLA-DPA1*01:03/DPB1*04:01</td>\n",
       "    </tr>\n",
       "    <tr>\n",
       "      <th>9</th>\n",
       "      <td>3</td>\n",
       "      <td>HLA-DRB1*01:01</td>\n",
       "    </tr>\n",
       "    <tr>\n",
       "      <th>10</th>\n",
       "      <td>3</td>\n",
       "      <td>HLA-DRB1*07:01</td>\n",
       "    </tr>\n",
       "    <tr>\n",
       "      <th>11</th>\n",
       "      <td>4</td>\n",
       "      <td>HLA-DPA1*01:03/DPB1*04:02</td>\n",
       "    </tr>\n",
       "    <tr>\n",
       "      <th>12</th>\n",
       "      <td>4</td>\n",
       "      <td>HLA-DQA1*01:01/DQB1*05:01</td>\n",
       "    </tr>\n",
       "    <tr>\n",
       "      <th>13</th>\n",
       "      <td>4</td>\n",
       "      <td>HLA-DRB1*01:01</td>\n",
       "    </tr>\n",
       "    <tr>\n",
       "      <th>14</th>\n",
       "      <td>4</td>\n",
       "      <td>HLA-DPA1*01:03/DPB1*02:01</td>\n",
       "    </tr>\n",
       "    <tr>\n",
       "      <th>15</th>\n",
       "      <td>5</td>\n",
       "      <td>HLA-DQA1*01:01/DQB1*05:01</td>\n",
       "    </tr>\n",
       "    <tr>\n",
       "      <th>16</th>\n",
       "      <td>5</td>\n",
       "      <td>HLA-DRB1*11:01</td>\n",
       "    </tr>\n",
       "    <tr>\n",
       "      <th>17</th>\n",
       "      <td>5</td>\n",
       "      <td>HLA-DRB1*01:01</td>\n",
       "    </tr>\n",
       "    <tr>\n",
       "      <th>18</th>\n",
       "      <td>6</td>\n",
       "      <td>HLA-DRB1*03:01</td>\n",
       "    </tr>\n",
       "    <tr>\n",
       "      <th>19</th>\n",
       "      <td>6</td>\n",
       "      <td>HLA-DQA1*05:01/DQB1*02:01</td>\n",
       "    </tr>\n",
       "  </tbody>\n",
       "</table>\n",
       "</div>"
      ],
      "text/plain": [
       "    patient                     allele\n",
       "0         1  HLA-DQA1*03:01/DQB1*03:02\n",
       "1         1             HLA-DRB1*04:01\n",
       "2         1  HLA-DPA1*01:03/DPB1*04:01\n",
       "3         1             HLA-DRB1*04:04\n",
       "4         2             HLA-DRB1*11:04\n",
       "5         2  HLA-DPA1*01:03/DPB1*04:01\n",
       "6         2             HLA-DRB1*07:01\n",
       "7         3  HLA-DQA1*01:01/DQB1*05:01\n",
       "8         3  HLA-DPA1*01:03/DPB1*04:01\n",
       "9         3             HLA-DRB1*01:01\n",
       "10        3             HLA-DRB1*07:01\n",
       "11        4  HLA-DPA1*01:03/DPB1*04:02\n",
       "12        4  HLA-DQA1*01:01/DQB1*05:01\n",
       "13        4             HLA-DRB1*01:01\n",
       "14        4  HLA-DPA1*01:03/DPB1*02:01\n",
       "15        5  HLA-DQA1*01:01/DQB1*05:01\n",
       "16        5             HLA-DRB1*11:01\n",
       "17        5             HLA-DRB1*01:01\n",
       "18        6             HLA-DRB1*03:01\n",
       "19        6  HLA-DQA1*05:01/DQB1*02:01"
      ]
     },
     "execution_count": 12,
     "metadata": {},
     "output_type": "execute_result"
    }
   ],
   "source": [
    "pd.read_csv(\"patient-class2-alleles.csv\")"
   ]
  },
  {
   "cell_type": "code",
   "execution_count": null,
   "metadata": {},
   "outputs": [],
   "source": []
  }
 ],
 "metadata": {
  "kernelspec": {
   "display_name": "Python 3",
   "language": "python",
   "name": "python3"
  },
  "language_info": {
   "codemirror_mode": {
    "name": "ipython",
    "version": 3
   },
   "file_extension": ".py",
   "mimetype": "text/x-python",
   "name": "python",
   "nbconvert_exporter": "python",
   "pygments_lexer": "ipython3",
   "version": "3.6.5"
  }
 },
 "nbformat": 4,
 "nbformat_minor": 2
}
