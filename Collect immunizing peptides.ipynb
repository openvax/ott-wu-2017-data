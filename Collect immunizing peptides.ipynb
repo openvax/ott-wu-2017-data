{
 "cells": [
  {
   "cell_type": "code",
   "execution_count": 3,
   "metadata": {},
   "outputs": [],
   "source": [
    "df_supp4 = pd.read_csv(\"Supplemental information 4.csv\")"
   ]
  },
  {
   "cell_type": "code",
   "execution_count": 4,
   "metadata": {},
   "outputs": [
    {
     "data": {
      "text/html": [
       "<div>\n",
       "<style scoped>\n",
       "    .dataframe tbody tr th:only-of-type {\n",
       "        vertical-align: middle;\n",
       "    }\n",
       "\n",
       "    .dataframe tbody tr th {\n",
       "        vertical-align: top;\n",
       "    }\n",
       "\n",
       "    .dataframe thead th {\n",
       "        text-align: right;\n",
       "    }\n",
       "</style>\n",
       "<table border=\"1\" class=\"dataframe\">\n",
       "  <thead>\n",
       "    <tr style=\"text-align: right;\">\n",
       "      <th></th>\n",
       "      <th>Patient ID</th>\n",
       "      <th>Immunizing pool</th>\n",
       "      <th>Gene</th>\n",
       "      <th>Protein change</th>\n",
       "      <th>Peptide length</th>\n",
       "      <th>HLA allele</th>\n",
       "      <th>Mutated peptide sequence</th>\n",
       "      <th>Mutated peptide affinity</th>\n",
       "      <th>Wild type peptide sequence</th>\n",
       "      <th>Wild type sequence affinity</th>\n",
       "      <th>Immunizing peptide sequence</th>\n",
       "      <th>Immunizing peptide ID</th>\n",
       "      <th>EPT peptide ID</th>\n",
       "      <th>Gene expression (TPM)</th>\n",
       "      <th>CD8+ T cell reactivity by IFN-g ELISPOT against peptide pulsed autologous APC</th>\n",
       "      <th>CD8+ T cell reactivity by IFN-g ELISPOT against minigene expressing autologous B cell</th>\n",
       "      <th>CD8+ T cell reactivity by IFN-g ELISPOT against autologous tumor</th>\n",
       "    </tr>\n",
       "  </thead>\n",
       "  <tbody>\n",
       "    <tr>\n",
       "      <th>0</th>\n",
       "      <td>1</td>\n",
       "      <td>A</td>\n",
       "      <td>ACPP</td>\n",
       "      <td>p.E34K</td>\n",
       "      <td>9.0</td>\n",
       "      <td>A24:02</td>\n",
       "      <td>KLKFVTLVF</td>\n",
       "      <td>142.38</td>\n",
       "      <td>ELKFVTLVF</td>\n",
       "      <td>1140.75</td>\n",
       "      <td>DRSVLAKKLKFVTLVFRHGDRSPID</td>\n",
       "      <td>1-IMP04</td>\n",
       "      <td>1-EPT4A</td>\n",
       "      <td>1.27</td>\n",
       "      <td>1</td>\n",
       "      <td>1</td>\n",
       "      <td>0</td>\n",
       "    </tr>\n",
       "    <tr>\n",
       "      <th>1</th>\n",
       "      <td>1</td>\n",
       "      <td>A</td>\n",
       "      <td>ACPP</td>\n",
       "      <td>p.E34K</td>\n",
       "      <td>9.0</td>\n",
       "      <td>B15:01</td>\n",
       "      <td>KLKFVTLVF</td>\n",
       "      <td>31.89</td>\n",
       "      <td>ELKFVTLVF</td>\n",
       "      <td>206.37</td>\n",
       "      <td>DRSVLAKKLKFVTLVFRHGDRSPID</td>\n",
       "      <td>1-IMP04</td>\n",
       "      <td>1-EPT4A</td>\n",
       "      <td>1.27</td>\n",
       "      <td>1</td>\n",
       "      <td>1</td>\n",
       "      <td>0</td>\n",
       "    </tr>\n",
       "    <tr>\n",
       "      <th>2</th>\n",
       "      <td>1</td>\n",
       "      <td>A</td>\n",
       "      <td>ACPP</td>\n",
       "      <td>p.E34K</td>\n",
       "      <td>9.0</td>\n",
       "      <td>A02:01</td>\n",
       "      <td>VLAKKLKFV</td>\n",
       "      <td>52.9</td>\n",
       "      <td>VLAKELKFV</td>\n",
       "      <td>28.52</td>\n",
       "      <td>DRSVLAKKLKFVTLVFRHGDRSPID</td>\n",
       "      <td>1-IMP04</td>\n",
       "      <td>1-EPT4C</td>\n",
       "      <td>1.27</td>\n",
       "      <td>0</td>\n",
       "      <td>n.d.</td>\n",
       "      <td>n.d.</td>\n",
       "    </tr>\n",
       "    <tr>\n",
       "      <th>3</th>\n",
       "      <td>1</td>\n",
       "      <td>A</td>\n",
       "      <td>PRTG</td>\n",
       "      <td>p.F1055L</td>\n",
       "      <td>9.0</td>\n",
       "      <td>A02:01</td>\n",
       "      <td>FLFQDSKKI</td>\n",
       "      <td>83.31</td>\n",
       "      <td>FFFQDSKKI</td>\n",
       "      <td>16441.6</td>\n",
       "      <td>NNSKKKWFLFQDSKKIQVEQPQ</td>\n",
       "      <td>1-IMP03</td>\n",
       "      <td>1-EPT3A</td>\n",
       "      <td>0.58</td>\n",
       "      <td>0</td>\n",
       "      <td>n.d.</td>\n",
       "      <td>n.d.</td>\n",
       "    </tr>\n",
       "    <tr>\n",
       "      <th>4</th>\n",
       "      <td>1</td>\n",
       "      <td>A</td>\n",
       "      <td>PRTG</td>\n",
       "      <td>p.F1055L</td>\n",
       "      <td>9.0</td>\n",
       "      <td>A24:02</td>\n",
       "      <td>NSKKKWFLF</td>\n",
       "      <td>443.84</td>\n",
       "      <td>NSKKKWFFF</td>\n",
       "      <td>952.95</td>\n",
       "      <td>NNSKKKWFLFQDSKKIQVEQPQ</td>\n",
       "      <td>1-IMP03</td>\n",
       "      <td>1-EPT3C</td>\n",
       "      <td>0.58</td>\n",
       "      <td>0</td>\n",
       "      <td>n.d.</td>\n",
       "      <td>n.d.</td>\n",
       "    </tr>\n",
       "  </tbody>\n",
       "</table>\n",
       "</div>"
      ],
      "text/plain": [
       "   Patient ID Immunizing pool  Gene Protein change  Peptide length HLA allele  \\\n",
       "0           1               A  ACPP         p.E34K             9.0     A24:02   \n",
       "1           1               A  ACPP         p.E34K             9.0     B15:01   \n",
       "2           1               A  ACPP         p.E34K             9.0     A02:01   \n",
       "3           1               A  PRTG       p.F1055L             9.0     A02:01   \n",
       "4           1               A  PRTG       p.F1055L             9.0     A24:02   \n",
       "\n",
       "  Mutated peptide sequence Mutated peptide affinity  \\\n",
       "0                KLKFVTLVF                   142.38   \n",
       "1                KLKFVTLVF                    31.89   \n",
       "2                VLAKKLKFV                     52.9   \n",
       "3                FLFQDSKKI                    83.31   \n",
       "4                NSKKKWFLF                   443.84   \n",
       "\n",
       "  Wild type peptide sequence Wild type sequence affinity  \\\n",
       "0                  ELKFVTLVF                     1140.75   \n",
       "1                  ELKFVTLVF                      206.37   \n",
       "2                  VLAKELKFV                       28.52   \n",
       "3                  FFFQDSKKI                     16441.6   \n",
       "4                  NSKKKWFFF                      952.95   \n",
       "\n",
       "  Immunizing peptide sequence Immunizing peptide ID EPT peptide ID  \\\n",
       "0   DRSVLAKKLKFVTLVFRHGDRSPID               1-IMP04        1-EPT4A   \n",
       "1   DRSVLAKKLKFVTLVFRHGDRSPID               1-IMP04        1-EPT4A   \n",
       "2   DRSVLAKKLKFVTLVFRHGDRSPID               1-IMP04        1-EPT4C   \n",
       "3      NNSKKKWFLFQDSKKIQVEQPQ               1-IMP03        1-EPT3A   \n",
       "4      NNSKKKWFLFQDSKKIQVEQPQ               1-IMP03        1-EPT3C   \n",
       "\n",
       "   Gene expression (TPM)  \\\n",
       "0                   1.27   \n",
       "1                   1.27   \n",
       "2                   1.27   \n",
       "3                   0.58   \n",
       "4                   0.58   \n",
       "\n",
       "  CD8+ T cell reactivity by IFN-g ELISPOT against peptide pulsed autologous APC  \\\n",
       "0                                                  1                              \n",
       "1                                                  1                              \n",
       "2                                                  0                              \n",
       "3                                                  0                              \n",
       "4                                                  0                              \n",
       "\n",
       "  CD8+ T cell reactivity by IFN-g ELISPOT against minigene expressing autologous B cell  \\\n",
       "0                                                  1                                      \n",
       "1                                                  1                                      \n",
       "2                                               n.d.                                      \n",
       "3                                               n.d.                                      \n",
       "4                                               n.d.                                      \n",
       "\n",
       "  CD8+ T cell reactivity by IFN-g ELISPOT against autologous tumor  \n",
       "0                                                  0                \n",
       "1                                                  0                \n",
       "2                                               n.d.                \n",
       "3                                               n.d.                \n",
       "4                                               n.d.                "
      ]
     },
     "execution_count": 4,
     "metadata": {},
     "output_type": "execute_result"
    }
   ],
   "source": [
    "df_supp4.head()"
   ]
  },
  {
   "cell_type": "code",
   "execution_count": 6,
   "metadata": {},
   "outputs": [],
   "source": [
    "peptide_dict_supp4 = dict(zip(df_supp4[\"Immunizing peptide ID\"], df_supp4[\"Immunizing peptide sequence\"]))\n"
   ]
  },
  {
   "cell_type": "code",
   "execution_count": 7,
   "metadata": {},
   "outputs": [
    {
     "data": {
      "text/plain": [
       "98"
      ]
     },
     "execution_count": 7,
     "metadata": {},
     "output_type": "execute_result"
    }
   ],
   "source": [
    "len(peptide_dict_supp4)"
   ]
  },
  {
   "cell_type": "code",
   "execution_count": 8,
   "metadata": {},
   "outputs": [],
   "source": [
    "df_supp5 = pd.read_csv(\"Supplemental information 5.csv\")"
   ]
  },
  {
   "cell_type": "code",
   "execution_count": 10,
   "metadata": {},
   "outputs": [
    {
     "data": {
      "text/html": [
       "<div>\n",
       "<style scoped>\n",
       "    .dataframe tbody tr th:only-of-type {\n",
       "        vertical-align: middle;\n",
       "    }\n",
       "\n",
       "    .dataframe tbody tr th {\n",
       "        vertical-align: top;\n",
       "    }\n",
       "\n",
       "    .dataframe thead th {\n",
       "        text-align: right;\n",
       "    }\n",
       "</style>\n",
       "<table border=\"1\" class=\"dataframe\">\n",
       "  <thead>\n",
       "    <tr style=\"text-align: right;\">\n",
       "      <th></th>\n",
       "      <th>Patient ID</th>\n",
       "      <th>Gene</th>\n",
       "      <th>Protein change</th>\n",
       "      <th>Immunizing peptide ID</th>\n",
       "      <th>Immunizing peptide</th>\n",
       "      <th>Binding peptide</th>\n",
       "      <th>HLA allele</th>\n",
       "      <th>Prediction method</th>\n",
       "      <th>Percentile rank</th>\n",
       "    </tr>\n",
       "  </thead>\n",
       "  <tbody>\n",
       "    <tr>\n",
       "      <th>0</th>\n",
       "      <td>1</td>\n",
       "      <td>ACPP</td>\n",
       "      <td>p.E34K</td>\n",
       "      <td>1-IMP04</td>\n",
       "      <td>DRSVLAKKLKFVTLVFRHGDRSPID</td>\n",
       "      <td>LAKKLKFVTLVFRHG</td>\n",
       "      <td>HLA-DPA1*01:03/DPB1*04:01</td>\n",
       "      <td>NetMHCIIpan</td>\n",
       "      <td>1.64</td>\n",
       "    </tr>\n",
       "    <tr>\n",
       "      <th>1</th>\n",
       "      <td>1</td>\n",
       "      <td>ACPP</td>\n",
       "      <td>p.E34K</td>\n",
       "      <td>1-IMP04</td>\n",
       "      <td>DRSVLAKKLKFVTLVFRHGDRSPID</td>\n",
       "      <td>AKKLKFVTLVFRHGD</td>\n",
       "      <td>HLA-DPA1*01:03/DPB1*04:01</td>\n",
       "      <td>NetMHCIIpan</td>\n",
       "      <td>1.84</td>\n",
       "    </tr>\n",
       "    <tr>\n",
       "      <th>2</th>\n",
       "      <td>1</td>\n",
       "      <td>ACPP</td>\n",
       "      <td>p.E34K</td>\n",
       "      <td>1-IMP04</td>\n",
       "      <td>DRSVLAKKLKFVTLVFRHGDRSPID</td>\n",
       "      <td>VLAKKLKFVTLVFRH</td>\n",
       "      <td>HLA-DPA1*01:03/DPB1*04:01</td>\n",
       "      <td>NetMHCIIpan</td>\n",
       "      <td>2.01</td>\n",
       "    </tr>\n",
       "    <tr>\n",
       "      <th>3</th>\n",
       "      <td>1</td>\n",
       "      <td>ACPP</td>\n",
       "      <td>p.E34K</td>\n",
       "      <td>1-IMP04</td>\n",
       "      <td>DRSVLAKKLKFVTLVFRHGDRSPID</td>\n",
       "      <td>KKLKFVTLVFRHGDR</td>\n",
       "      <td>HLA-DPA1*01:03/DPB1*04:01</td>\n",
       "      <td>NetMHCIIpan</td>\n",
       "      <td>2.01</td>\n",
       "    </tr>\n",
       "    <tr>\n",
       "      <th>4</th>\n",
       "      <td>1</td>\n",
       "      <td>ACPP</td>\n",
       "      <td>p.E34K</td>\n",
       "      <td>1-IMP04</td>\n",
       "      <td>DRSVLAKKLKFVTLVFRHGDRSPID</td>\n",
       "      <td>KLKFVTLVFRHGDRS</td>\n",
       "      <td>HLA-DPA1*01:03/DPB1*04:01</td>\n",
       "      <td>NetMHCIIpan</td>\n",
       "      <td>3.27</td>\n",
       "    </tr>\n",
       "  </tbody>\n",
       "</table>\n",
       "</div>"
      ],
      "text/plain": [
       "   Patient ID  Gene Protein change Immunizing peptide ID  \\\n",
       "0           1  ACPP         p.E34K               1-IMP04   \n",
       "1           1  ACPP         p.E34K               1-IMP04   \n",
       "2           1  ACPP         p.E34K               1-IMP04   \n",
       "3           1  ACPP         p.E34K               1-IMP04   \n",
       "4           1  ACPP         p.E34K               1-IMP04   \n",
       "\n",
       "          Immunizing peptide  Binding peptide                 HLA allele  \\\n",
       "0  DRSVLAKKLKFVTLVFRHGDRSPID  LAKKLKFVTLVFRHG  HLA-DPA1*01:03/DPB1*04:01   \n",
       "1  DRSVLAKKLKFVTLVFRHGDRSPID  AKKLKFVTLVFRHGD  HLA-DPA1*01:03/DPB1*04:01   \n",
       "2  DRSVLAKKLKFVTLVFRHGDRSPID  VLAKKLKFVTLVFRH  HLA-DPA1*01:03/DPB1*04:01   \n",
       "3  DRSVLAKKLKFVTLVFRHGDRSPID  KKLKFVTLVFRHGDR  HLA-DPA1*01:03/DPB1*04:01   \n",
       "4  DRSVLAKKLKFVTLVFRHGDRSPID  KLKFVTLVFRHGDRS  HLA-DPA1*01:03/DPB1*04:01   \n",
       "\n",
       "  Prediction method  Percentile rank  \n",
       "0       NetMHCIIpan             1.64  \n",
       "1       NetMHCIIpan             1.84  \n",
       "2       NetMHCIIpan             2.01  \n",
       "3       NetMHCIIpan             2.01  \n",
       "4       NetMHCIIpan             3.27  "
      ]
     },
     "execution_count": 10,
     "metadata": {},
     "output_type": "execute_result"
    }
   ],
   "source": [
    "df_supp5.head()"
   ]
  },
  {
   "cell_type": "code",
   "execution_count": 12,
   "metadata": {},
   "outputs": [],
   "source": [
    "peptide_dict_supp5 = dict(zip(df_supp5[\"Immunizing peptide ID\"], df_supp5[\"Immunizing peptide\"]))"
   ]
  },
  {
   "cell_type": "code",
   "execution_count": 13,
   "metadata": {},
   "outputs": [
    {
     "data": {
      "text/plain": [
       "72"
      ]
     },
     "execution_count": 13,
     "metadata": {},
     "output_type": "execute_result"
    }
   ],
   "source": [
    "len(peptide_dict_supp5)"
   ]
  },
  {
   "cell_type": "code",
   "execution_count": 14,
   "metadata": {},
   "outputs": [
    {
     "data": {
      "text/plain": [
       "65"
      ]
     },
     "execution_count": 14,
     "metadata": {},
     "output_type": "execute_result"
    }
   ],
   "source": [
    "len(set(peptide_dict_supp4).intersection(peptide_dict_supp5))"
   ]
  },
  {
   "cell_type": "code",
   "execution_count": 11,
   "metadata": {},
   "outputs": [],
   "source": [
    "# what the heck? Why do I get different peptide IDs?"
   ]
  },
  {
   "cell_type": "code",
   "execution_count": 17,
   "metadata": {},
   "outputs": [
    {
     "data": {
      "text/plain": [
       "105"
      ]
     },
     "execution_count": 17,
     "metadata": {},
     "output_type": "execute_result"
    }
   ],
   "source": [
    "len(set(peptide_dict_supp4).union(peptide_dict_supp5))"
   ]
  },
  {
   "cell_type": "code",
   "execution_count": 19,
   "metadata": {},
   "outputs": [
    {
     "data": {
      "text/plain": [
       "7"
      ]
     },
     "execution_count": 19,
     "metadata": {},
     "output_type": "execute_result"
    }
   ],
   "source": [
    "len(set(peptide_dict_supp5).difference(peptide_dict_supp4))"
   ]
  },
  {
   "cell_type": "code",
   "execution_count": 20,
   "metadata": {},
   "outputs": [
    {
     "data": {
      "text/plain": [
       "{'4-IMP07', '4-IMP09', '4-IMP12', '4-IMP18', '4-IMP23', '6-IMP12', '6-IMP16'}"
      ]
     },
     "execution_count": 20,
     "metadata": {},
     "output_type": "execute_result"
    }
   ],
   "source": [
    "# these are the peptides which I expected to be in both supp 4 and supp 5 but were only in the former\n",
    "set(peptide_dict_supp5).difference(peptide_dict_supp4)"
   ]
  },
  {
   "cell_type": "code",
   "execution_count": null,
   "metadata": {},
   "outputs": [],
   "source": []
  }
 ],
 "metadata": {
  "kernelspec": {
   "display_name": "Python 3",
   "language": "python",
   "name": "python3"
  },
  "language_info": {
   "codemirror_mode": {
    "name": "ipython",
    "version": 3
   },
   "file_extension": ".py",
   "mimetype": "text/x-python",
   "name": "python",
   "nbconvert_exporter": "python",
   "pygments_lexer": "ipython3",
   "version": "3.6.5"
  }
 },
 "nbformat": 4,
 "nbformat_minor": 2
}
